{
 "cells": [
  {
   "cell_type": "code",
   "execution_count": 1,
   "metadata": {},
   "outputs": [],
   "source": [
    "import pandas as pd\n",
    "import numpy as np\n",
    "import matplotlib.pyplot as plt\n",
    "from keras.models import Sequential\n",
    "from keras.layers import LSTM, Dropout, Dense, Activation\n",
    "from keras.models import load_model\n",
    "import datetime\n",
    "from scipy.io import wavfile\n",
    "from sklearn.preprocessing import StandardScaler\n",
    "from pydub import AudioSegment\n",
    "from scipy.signal import resample\n",
    "import yfinance as yf\n",
    "import tensorflow as tf"
   ]
  },
  {
   "cell_type": "code",
   "execution_count": 2,
   "metadata": {},
   "outputs": [
    {
     "name": "stdout",
     "output_type": "stream",
     "text": [
      "                  Close\n",
      "Date                   \n",
      "2001-09-03   541.830017\n",
      "2001-09-04   558.789978\n",
      "2001-09-05   551.909973\n",
      "2001-09-06   552.590027\n",
      "2001-09-07   555.080017\n",
      "...                 ...\n",
      "2021-08-30  3144.189941\n",
      "2021-08-31  3199.270020\n",
      "2021-09-01  3207.020020\n",
      "2021-09-02  3175.850098\n",
      "2021-09-03  3201.060059\n",
      "\n",
      "[4938 rows x 1 columns]\n"
     ]
    }
   ],
   "source": [
    "code = '^KS11' #KOSPI Composite Index\n",
    "kospi = yf.Ticker(code)\n",
    "kospi = kospi.history(period='20y')\n",
    "kospi = kospi[['Close']]\n",
    "print(kospi)"
   ]
  },
  {
   "cell_type": "code",
   "execution_count": 3,
   "metadata": {},
   "outputs": [
    {
     "name": "stdout",
     "output_type": "stream",
     "text": [
      "X : \n",
      " [[   0]\n",
      " [   1]\n",
      " [   2]\n",
      " ...\n",
      " [4935]\n",
      " [4936]\n",
      " [4937]]\n",
      "\n",
      "y : \n",
      " [[ 541.83001709]\n",
      " [ 558.78997803]\n",
      " [ 551.90997314]\n",
      " ...\n",
      " [3207.02001953]\n",
      " [3175.85009766]\n",
      " [3201.06005859]]\n"
     ]
    }
   ],
   "source": [
    "# X : 날짜에 따른 순차적인 인덱스\n",
    "# y : 각 날짜에 따른 코스피 지수의 종가\n",
    "dates = kospi.Close.index\n",
    "X = np.arange(len(dates)).reshape(-1,1)\n",
    "y = kospi.Close.values\n",
    "y = y.reshape(-1,1)\n",
    "print(\"X : \\n\", X)\n",
    "print(\"\\ny : \\n\", y)"
   ]
  },
  {
   "cell_type": "code",
   "execution_count": 4,
   "metadata": {},
   "outputs": [],
   "source": [
    "# 딥러닝 학습을 정상적으로 동작 시키기 위해 데이터 정규화\n",
    "y_std = y.std()\n",
    "y_mean = y.mean()\n",
    "y = (y-y_mean) / y_std"
   ]
  },
  {
   "cell_type": "code",
   "execution_count": 5,
   "metadata": {},
   "outputs": [
    {
     "name": "stdout",
     "output_type": "stream",
     "text": [
      "shape of X_train :  (4928, 1)\n",
      "shape of y_train :  (4928, 1)\n",
      "shape of X_test :  (10, 1)\n",
      "shape of y_test :  (10, 1)\n"
     ]
    }
   ],
   "source": [
    "# 현재를 기준으로 최근 10일 데이터를 시험에 사용하고 그 외의 이전 데이터들은 학습에 사용\n",
    "test_period = 10\n",
    "\n",
    "X_train = X[:-test_period]\n",
    "y_train = y[:-test_period]\n",
    "X_test = X[-test_period:]\n",
    "y_test = y[-test_period:]\n",
    "\n",
    "print(\"shape of X_train : \", X_train.shape)\n",
    "print(\"shape of y_train : \", y_train.shape)\n",
    "print(\"shape of X_test : \", X_test.shape)\n",
    "print(\"shape of y_test : \", y_test.shape)"
   ]
  },
  {
   "cell_type": "code",
   "execution_count": 6,
   "metadata": {},
   "outputs": [],
   "source": [
    "# 학습데이터 : 검증데이터 = 7 : 3  (학습이 진행되는 중에도 학습이 정상적으로 이루어지는지 확인하기 위함)\n",
    "from sklearn.model_selection import train_test_split\n",
    "X_train, X_val, y_train, y_val = train_test_split(X_train, y_train, test_size=0.3, random_state=0)"
   ]
  },
  {
   "cell_type": "code",
   "execution_count": 7,
   "metadata": {},
   "outputs": [
    {
     "name": "stdout",
     "output_type": "stream",
     "text": [
      "shape of X_train :  (4938, 1, 1)\n",
      "shape of X_train :  (3449, 1, 1)\n",
      "shape of X_val :  (1479, 1, 1)\n",
      "shape of X_test :  (10, 1, 1)\n"
     ]
    }
   ],
   "source": [
    "# tensorflow에 데이터를 전달하기 전에 입력 형식을 맞추기 위해 2차원 데이터를 3차원 데이터로 변환\n",
    "X = X.reshape(-1, 1, 1)\n",
    "X_train = X_train.reshape(-1, 1, 1)\n",
    "X_val = X_val.reshape(-1, 1, 1)\n",
    "X_test = X_test.reshape(-1, 1, 1)\n",
    "\n",
    "print(\"shape of X_train : \", X.shape)\n",
    "print(\"shape of X_train : \", X_train.shape)\n",
    "print(\"shape of X_val : \", X_val.shape)\n",
    "print(\"shape of X_test : \", X_test.shape)"
   ]
  },
  {
   "cell_type": "code",
   "execution_count": 8,
   "metadata": {},
   "outputs": [
    {
     "name": "stdout",
     "output_type": "stream",
     "text": [
      "Model: \"sequential\"\n",
      "_________________________________________________________________\n",
      "Layer (type)                 Output Shape              Param #   \n",
      "=================================================================\n",
      "lstm (LSTM)                  (None, 8)                 320       \n",
      "_________________________________________________________________\n",
      "dense (Dense)                (None, 4)                 36        \n",
      "_________________________________________________________________\n",
      "dense_1 (Dense)              (None, 1)                 5         \n",
      "=================================================================\n",
      "Total params: 361\n",
      "Trainable params: 361\n",
      "Non-trainable params: 0\n",
      "_________________________________________________________________\n"
     ]
    }
   ],
   "source": [
    "# LSTM 모델 생성 \n",
    "model = Sequential()\n",
    "\n",
    "model.add(LSTM(8, input_shape=(None,1)))\n",
    "model.add(Dense(4))\n",
    "model.add(Dense(1, activation='linear'))\n",
    "model.compile(loss='mse', optimizer='adam')\n",
    "model.summary()"
   ]
  },
  {
   "cell_type": "code",
   "execution_count": 9,
   "metadata": {},
   "outputs": [
    {
     "name": "stdout",
     "output_type": "stream",
     "text": [
      "Epoch 1/15\n",
      "108/108 [==============================] - 4s 15ms/step - loss: 0.9761 - val_loss: 0.9673\n",
      "Epoch 2/15\n",
      "108/108 [==============================] - 0s 3ms/step - loss: 0.9328 - val_loss: 0.8759\n",
      "Epoch 3/15\n",
      "108/108 [==============================] - 0s 2ms/step - loss: 0.7969 - val_loss: 0.5260\n",
      "Epoch 4/15\n",
      "108/108 [==============================] - 0s 2ms/step - loss: 0.5978 - val_loss: 0.4092\n",
      "Epoch 5/15\n",
      "108/108 [==============================] - 0s 2ms/step - loss: 0.3821 - val_loss: 0.2381\n",
      "Epoch 6/15\n",
      "108/108 [==============================] - 0s 2ms/step - loss: 0.2350 - val_loss: 0.1981\n",
      "Epoch 7/15\n",
      "108/108 [==============================] - 0s 2ms/step - loss: 0.1953 - val_loss: 0.2069\n",
      "Epoch 8/15\n",
      "108/108 [==============================] - 0s 2ms/step - loss: 0.2040 - val_loss: 0.2056\n",
      "Epoch 9/15\n",
      "108/108 [==============================] - 0s 2ms/step - loss: 0.1630 - val_loss: 0.1986\n",
      "Epoch 10/15\n",
      "108/108 [==============================] - 0s 2ms/step - loss: 0.1912 - val_loss: 0.2171\n",
      "Epoch 11/15\n",
      "108/108 [==============================] - 0s 2ms/step - loss: 0.2054 - val_loss: 0.2185\n",
      "Epoch 12/15\n",
      "108/108 [==============================] - 0s 2ms/step - loss: 0.1994 - val_loss: 0.1790\n",
      "Epoch 13/15\n",
      "108/108 [==============================] - 0s 2ms/step - loss: 0.2172 - val_loss: 0.1801\n",
      "Epoch 14/15\n",
      "108/108 [==============================] - 0s 3ms/step - loss: 0.1878 - val_loss: 0.1753\n",
      "Epoch 15/15\n",
      "108/108 [==============================] - 0s 3ms/step - loss: 0.1838 - val_loss: 0.1801\n"
     ]
    }
   ],
   "source": [
    "hist = model.fit(X_train, y_train, epochs = 15, batch_size=32, validation_data=(X_val, y_val))"
   ]
  },
  {
   "cell_type": "code",
   "execution_count": 10,
   "metadata": {},
   "outputs": [
    {
     "data": {
      "text/plain": [
       "<function matplotlib.pyplot.show(close=None, block=None)>"
      ]
     },
     "execution_count": 10,
     "metadata": {},
     "output_type": "execute_result"
    },
    {
     "data": {
      "image/png": "[encoded data removed]",
      "text/plain": [
       "<Figure size 432x288 with 1 Axes>"
      ]
     },
     "metadata": {
      "needs_background": "light"
     },
     "output_type": "display_data"
    }
   ],
   "source": [
    "plt.plot(hist.history['loss'])\n",
    "plt.plot(hist.history['val_loss'])\n",
    "plt.ylabel('loss')\n",
    "plt.xlabel('epoch')\n",
    "plt.legend(['train', 'val'], loc='upper left')\n",
    "plt.show"
   ]
  },
  {
   "cell_type": "code",
   "execution_count": 11,
   "metadata": {},
   "outputs": [
    {
     "name": "stdout",
     "output_type": "stream",
     "text": [
      "Train Score :  0.16331249475479126\n",
      "Validation Score :  0.18014079332351685\n",
      "Test Score :  2.0059738159179688\n"
     ]
    }
   ],
   "source": [
    "trainScore = model.evaluate(X_train, y_train, verbose=0)\n",
    "valScore = model.evaluate(X_val, y_val, verbose=0)\n",
    "testScore = model.evaluate(X_test, y_test, verbose=0)\n",
    "\n",
    "print('Train Score : ', trainScore)\n",
    "print('Validation Score : ', valScore)\n",
    "print('Test Score : ', testScore)"
   ]
  },
  {
   "cell_type": "code",
   "execution_count": 12,
   "metadata": {},
   "outputs": [
    {
     "name": "stderr",
     "output_type": "stream",
     "text": [
      "<ipython-input-12-abf6d5f0e340>:3: FutureWarning: Support for multi-dimensional indexing (e.g. `obj[:, None]`) is deprecated and will be removed in a future version.  Convert to a numpy array before indexing instead.\n",
      "  return dates[x].flatten()\n",
      "<ipython-input-12-abf6d5f0e340>:3: FutureWarning: Support for multi-dimensional indexing (e.g. `obj[:, None]`) is deprecated and will be removed in a future version.  Convert to a numpy array before indexing instead.\n",
      "  return dates[x].flatten()\n",
      "<ipython-input-12-abf6d5f0e340>:3: FutureWarning: Support for multi-dimensional indexing (e.g. `obj[:, None]`) is deprecated and will be removed in a future version.  Convert to a numpy array before indexing instead.\n",
      "  return dates[x].flatten()\n",
      "<ipython-input-12-abf6d5f0e340>:3: FutureWarning: Support for multi-dimensional indexing (e.g. `obj[:, None]`) is deprecated and will be removed in a future version.  Convert to a numpy array before indexing instead.\n",
      "  return dates[x].flatten()\n",
      "<ipython-input-12-abf6d5f0e340>:3: FutureWarning: Support for multi-dimensional indexing (e.g. `obj[:, None]`) is deprecated and will be removed in a future version.  Convert to a numpy array before indexing instead.\n",
      "  return dates[x].flatten()\n"
     ]
    },
    {
     "data": {
      "image/png": "[encoded data removed]",
      "text/plain": [
       "<Figure size 432x288 with 1 Axes>"
      ]
     },
     "metadata": {
      "needs_background": "light"
     },
     "output_type": "display_data"
    }
   ],
   "source": [
    "# 이전에 만들었던 인덱스를 통해 날짜를 얻어오기 위해 사용하는 함수\n",
    "def get_dates(x):\n",
    "    return dates[x].flatten()\n",
    "\n",
    "# 정규화된 데이터를 복원하기 위해 사용하는 함수\n",
    "def denorm(y):\n",
    "    return y * y_std + y_mean\n",
    "\n",
    "prediction = model.predict(X.reshape(-1, 1, 1), batch_size = 32)\n",
    "plt.plot(get_dates(X[:-10]), denorm(y[:-10]), label='trained KOSPI index')\n",
    "plt.plot(get_dates(X_test), denorm(y_test), '.-', label='tested KOSPI index')\n",
    "plt.plot(get_dates(X), denorm(prediction), c='limegreen', label='LSTM')\n",
    "\n",
    "X_last = X[-1:]\n",
    "y_last = y[-1:]\n",
    "y_last_prediction = model.predict(X_last.reshape(-1, 1, 1))\n",
    "plt.plot(get_dates(X_last), denorm(y_last), 'rx', label='True Future')\n",
    "plt.plot(get_dates(X_last), denorm(y_last_prediction), 'go', label='Model Prediction')\n",
    "\n",
    "plt.legend()\n",
    "plt.grid()\n",
    "plt.show()"
   ]
  }
 ],
 "metadata": {
  "kernelspec": {
   "display_name": "Python 3",
   "language": "python",
   "name": "python3"
  },
  "language_info": {
   "codemirror_mode": {
    "name": "ipython",
    "version": 3
   },
   "file_extension": ".py",
   "mimetype": "text/x-python",
   "name": "python",
   "nbconvert_exporter": "python",
   "pygments_lexer": "ipython3",
   "version": "3.8.5"
  }
 },
 "nbformat": 4,
 "nbformat_minor": 4
}
