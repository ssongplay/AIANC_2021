{
 "cells": [
  {
   "cell_type": "code",
   "execution_count": 1,
   "metadata": {},
   "outputs": [
    {
     "name": "stderr",
     "output_type": "stream",
     "text": [
      "C:\\Users\\syj47\\anaconda3\\lib\\site-packages\\pydub\\utils.py:170: RuntimeWarning: Couldn't find ffmpeg or avconv - defaulting to ffmpeg, but may not work\n",
      "  warn(\"Couldn't find ffmpeg or avconv - defaulting to ffmpeg, but may not work\", RuntimeWarning)\n"
     ]
    }
   ],
   "source": [
    "import pandas as pd\n",
    "import numpy as np\n",
    "import matplotlib.pyplot as plt\n",
    "from keras.models import Sequential\n",
    "from keras.layers import LSTM, Dropout, Dense, Activation\n",
    "from keras.models import load_model\n",
    "import datetime\n",
    "from scipy.io import wavfile\n",
    "from sklearn.preprocessing import StandardScaler\n",
    "from pydub import AudioSegment\n",
    "from scipy.signal import resample"
   ]
  },
  {
   "cell_type": "code",
   "execution_count": 2,
   "metadata": {},
   "outputs": [
    {
     "name": "stdout",
     "output_type": "stream",
     "text": [
      "count    365722.000000\n",
      "mean          0.101553\n",
      "std       14621.656175\n",
      "min      -30058.000000\n",
      "25%           0.000000\n",
      "50%           0.000000\n",
      "75%           0.000000\n",
      "max       30055.000000\n",
      "Name: 0, dtype: float64\n",
      "[0. 0. 0. ... 0. 0. 0.]\n"
     ]
    }
   ],
   "source": [
    "data = pd.read_csv('Beep.csv')\n",
    "train_data = data['0'].values/1000\n",
    "print(data['0'].describe())\n",
    "print(train_data)"
   ]
  },
  {
   "cell_type": "code",
   "execution_count": 3,
   "metadata": {},
   "outputs": [
    {
     "data": {
      "image/png": "[encoded data removed]",
      "text/plain": [
       "<Figure size 432x288 with 1 Axes>"
      ]
     },
     "metadata": {
      "needs_background": "light"
     },
     "output_type": "display_data"
    }
   ],
   "source": [
    "plt.plot(train_data)\n",
    "plt.xlim(0,350000)\n",
    "plt.show()"
   ]
  },
  {
   "cell_type": "code",
   "execution_count": 4,
   "metadata": {},
   "outputs": [
    {
     "name": "stdout",
     "output_type": "stream",
     "text": [
      "seq_len :  50\n"
     ]
    }
   ],
   "source": [
    "# 5초 간의 데이터를 보고 다음을 예측\n",
    "seq_len = 50  #예측을 위한 데이터 수\n",
    "prediction = 1  # 다음을 예측할 데이터 수 \n",
    "print(\"seq_len : \", seq_len)\n",
    "sequence_length = seq_len + prediction"
   ]
  },
  {
   "cell_type": "code",
   "execution_count": 5,
   "metadata": {},
   "outputs": [],
   "source": [
    "# 정확한 예측을 위해 값들을 정규화 \n",
    "result = []\n",
    "for index in range(len(train_data) - sequence_length):\n",
    "    result.append(train_data[index: index + sequence_length])\n",
    "result = np.array(result)\n",
    "\n",
    "# 트레이닝할 값과 테스트 값을 나눠줌\n",
    "row = int(round(result.shape[0] * 0.1))\n",
    "train = result[:row, :]\n",
    "\n",
    "x_train = train[:, :-prediction]\n",
    "x_train = np.reshape(x_train, (x_train.shape[0], x_train.shape[1], 1))\n",
    "y_train = train[:, -prediction]\n",
    "\n",
    "x_test = result[row:, :-prediction]\n",
    "x_test = np.reshape(x_test, (x_test.shape[0], x_test.shape[1], 1))\n",
    "y_test = result[row:, -prediction]\n"
   ]
  },
  {
   "cell_type": "code",
   "execution_count": 6,
   "metadata": {},
   "outputs": [
    {
     "name": "stdout",
     "output_type": "stream",
     "text": [
      "Model: \"sequential\"\n",
      "_________________________________________________________________\n",
      "Layer (type)                 Output Shape              Param #   \n",
      "=================================================================\n",
      "lstm (LSTM)                  (None, 50, 50)            10400     \n",
      "_________________________________________________________________\n",
      "lstm_1 (LSTM)                (None, 64)                29440     \n",
      "_________________________________________________________________\n",
      "dense (Dense)                (None, 1)                 65        \n",
      "=================================================================\n",
      "Total params: 39,905\n",
      "Trainable params: 39,905\n",
      "Non-trainable params: 0\n",
      "_________________________________________________________________\n",
      "Epoch 1/30\n",
      "3657/3657 [==============================] - 260s 70ms/step - loss: 6.5015 - acc: 0.8952 - val_loss: 0.4484 - val_acc: 0.4597\n",
      "Epoch 2/30\n",
      "3657/3657 [==============================] - 281s 77ms/step - loss: 0.0935 - acc: 0.8996 - val_loss: 0.2121 - val_acc: 0.4597\n",
      "Epoch 3/30\n",
      "3657/3657 [==============================] - 281s 77ms/step - loss: 0.0519 - acc: 0.8975 - val_loss: 0.0750 - val_acc: 0.4597\n",
      "Epoch 4/30\n",
      "3657/3657 [==============================] - 290s 79ms/step - loss: 0.0387 - acc: 0.8974 - val_loss: 0.1005 - val_acc: 0.4597\n",
      "Epoch 5/30\n",
      "3657/3657 [==============================] - 303s 83ms/step - loss: 0.0306 - acc: 0.9025 - val_loss: 0.1125 - val_acc: 0.4597\n",
      "Epoch 6/30\n",
      "3657/3657 [==============================] - 284s 78ms/step - loss: 0.0252 - acc: 0.8984 - val_loss: 0.1060 - val_acc: 0.4597\n",
      "Epoch 7/30\n",
      "3657/3657 [==============================] - 293s 80ms/step - loss: 0.0210 - acc: 0.9001 - val_loss: 0.0812 - val_acc: 0.4597\n",
      "Epoch 8/30\n",
      "3657/3657 [==============================] - 294s 80ms/step - loss: 0.0189 - acc: 0.8995 - val_loss: 0.1453 - val_acc: 0.4597\n",
      "Epoch 9/30\n",
      "3657/3657 [==============================] - 306s 84ms/step - loss: 0.0173 - acc: 0.9012 - val_loss: 0.1038 - val_acc: 0.4597\n",
      "Epoch 10/30\n",
      "3657/3657 [==============================] - 294s 80ms/step - loss: 0.0165 - acc: 0.8954 - val_loss: 0.0627 - val_acc: 0.4597\n",
      "Epoch 11/30\n",
      "3657/3657 [==============================] - 299s 82ms/step - loss: 0.0153 - acc: 0.8973 - val_loss: 0.0476 - val_acc: 0.4597\n",
      "Epoch 12/30\n",
      "3657/3657 [==============================] - 285s 78ms/step - loss: 0.0129 - acc: 0.9012 - val_loss: 0.0355 - val_acc: 0.4597\n",
      "Epoch 13/30\n",
      "3657/3657 [==============================] - 295s 81ms/step - loss: 0.0123 - acc: 0.9001 - val_loss: 0.0688 - val_acc: 0.4597\n",
      "Epoch 14/30\n",
      "3657/3657 [==============================] - 280s 77ms/step - loss: 0.0118 - acc: 0.8997 - val_loss: 0.0653 - val_acc: 0.4597\n",
      "Epoch 15/30\n",
      "3657/3657 [==============================] - 295s 81ms/step - loss: 0.0111 - acc: 0.8974 - val_loss: 0.0608 - val_acc: 0.4597\n",
      "Epoch 16/30\n",
      "3657/3657 [==============================] - 294s 80ms/step - loss: 0.0106 - acc: 0.8981 - val_loss: 0.0397 - val_acc: 0.4597\n",
      "Epoch 17/30\n",
      "3657/3657 [==============================] - 286s 78ms/step - loss: 0.0104 - acc: 0.8974 - val_loss: 0.0557 - val_acc: 0.4597\n",
      "Epoch 18/30\n",
      "3657/3657 [==============================] - 288s 79ms/step - loss: 0.0105 - acc: 0.8947 - val_loss: 0.0650 - val_acc: 0.4597\n",
      "Epoch 19/30\n",
      "3657/3657 [==============================] - 317s 87ms/step - loss: 0.0089 - acc: 0.8972 - val_loss: 0.1765 - val_acc: 0.4597\n",
      "Epoch 20/30\n",
      "3657/3657 [==============================] - 296s 81ms/step - loss: 0.0090 - acc: 0.8973 - val_loss: 0.0437 - val_acc: 0.4597\n",
      "Epoch 21/30\n",
      "3657/3657 [==============================] - 321s 88ms/step - loss: 0.0088 - acc: 0.8988 - val_loss: 0.0438 - val_acc: 0.4597\n",
      "Epoch 22/30\n",
      "3657/3657 [==============================] - 279s 76ms/step - loss: 0.0082 - acc: 0.8972 - val_loss: 0.1152 - val_acc: 0.4597\n",
      "Epoch 23/30\n",
      "3657/3657 [==============================] - 289s 79ms/step - loss: 0.0084 - acc: 0.8970 - val_loss: 0.0196 - val_acc: 0.4597\n",
      "Epoch 24/30\n",
      "3657/3657 [==============================] - 277s 76ms/step - loss: 0.0078 - acc: 0.8961 - val_loss: 0.0267 - val_acc: 0.4597\n",
      "Epoch 25/30\n",
      "3657/3657 [==============================] - 262s 72ms/step - loss: 0.0077 - acc: 0.8980 - val_loss: 0.0236 - val_acc: 0.4597\n",
      "Epoch 26/30\n",
      "3657/3657 [==============================] - 260s 71ms/step - loss: 0.0074 - acc: 0.8995 - val_loss: 0.0424 - val_acc: 0.4597\n",
      "Epoch 27/30\n",
      "3657/3657 [==============================] - 259s 71ms/step - loss: 0.0072 - acc: 0.8983 - val_loss: 0.0510 - val_acc: 0.4597\n",
      "Epoch 28/30\n",
      "3657/3657 [==============================] - 259s 71ms/step - loss: 0.0075 - acc: 0.8988 - val_loss: 0.0329 - val_acc: 0.4597\n",
      "Epoch 29/30\n",
      "3657/3657 [==============================] - 252s 69ms/step - loss: 0.0070 - acc: 0.9002 - val_loss: 0.0660 - val_acc: 0.4597\n",
      "Epoch 30/30\n",
      "3657/3657 [==============================] - 262s 72ms/step - loss: 0.0068 - acc: 0.8993 - val_loss: 0.0660 - val_acc: 0.4597\n"
     ]
    }
   ],
   "source": [
    "# 모델 생성\n",
    "model = Sequential()\n",
    "\n",
    "model.add(LSTM(50, return_sequences=True, input_shape=(50,1)))  # (timestep, feature)\n",
    "model.add(LSTM(64, return_sequences=False))\n",
    "model.add(Dense(1, activation='linear'))\n",
    "model.compile(loss='mse', optimizer='rmsprop', metrics=[\"acc\"])\n",
    "model.summary()\n",
    "\n",
    "# 트레이닝 값으로 학습\n",
    "hist = model.fit(x_train, y_train, validation_data=(x_test, y_test), batch_size=10, epochs=30)\n",
    "\n",
    "# 모델 저장\n",
    "model.save('weight.h5')"
   ]
  },
  {
   "cell_type": "code",
   "execution_count": 7,
   "metadata": {},
   "outputs": [
    {
     "data": {
      "image/png": "[encoded data removed]",
      "text/plain": [
       "<Figure size 432x288 with 2 Axes>"
      ]
     },
     "metadata": {
      "needs_background": "light"
     },
     "output_type": "display_data"
    }
   ],
   "source": [
    "# 모델 학습 과정 표시\n",
    "fig, loss_ax = plt.subplots()\n",
    "acc_ax = loss_ax.twinx()\n",
    "loss_ax.plot(hist.history['loss'], 'y', label='train loss')\n",
    "loss_ax.plot(hist.history['val_loss'], 'r', label='val loss')\n",
    "acc_ax.plot(hist.history['acc'], 'b', label='train acc')\n",
    "acc_ax.plot(hist.history['val_acc'], 'g', label='val acc')\n",
    "loss_ax.set_xlabel('epoch')\n",
    "loss_ax.set_ylabel('loss')\n",
    "acc_ax.set_ylabel('acc')\n",
    "loss_ax.legend(loc='upper left')\n",
    "acc_ax.legend(loc='lower left')\n",
    "\n",
    "plt.show()"
   ]
  },
  {
   "cell_type": "code",
   "execution_count": 8,
   "metadata": {},
   "outputs": [],
   "source": [
    "# 모델 로드\n",
    "model = Sequential()\n",
    "model = load_model('weight.h5')"
   ]
  },
  {
   "cell_type": "code",
   "execution_count": 9,
   "metadata": {},
   "outputs": [
    {
     "data": {
      "text/plain": [
       "array([[-0.00129695],\n",
       "       [-0.00129695],\n",
       "       [-0.00129695],\n",
       "       ...,\n",
       "       [-0.00129695],\n",
       "       [-0.00129695],\n",
       "       [-0.00129695]], dtype=float32)"
      ]
     },
     "execution_count": 9,
     "metadata": {},
     "output_type": "execute_result"
    }
   ],
   "source": [
    "pred = model.predict(x_test)\n",
    "pred"
   ]
  },
  {
   "cell_type": "code",
   "execution_count": 10,
   "metadata": {
    "scrolled": true
   },
   "outputs": [
    {
     "data": {
      "image/png": "[encoded data removed]",
      "text/plain": [
       "<Figure size 1440x720 with 1 Axes>"
      ]
     },
     "metadata": {},
     "output_type": "display_data"
    }
   ],
   "source": [
    "# 그래프 \n",
    "fig = plt.figure(facecolor='white', figsize=(20, 10))\n",
    "ax = fig.add_subplot(111)\n",
    "ax.plot(y_test, label='True')\n",
    "ax.plot(pred, label='Prediction')\n",
    "ax.legend()\n",
    "plt.xlim(0,350000)\n",
    "plt.show()"
   ]
  },
  {
   "cell_type": "code",
   "execution_count": 11,
   "metadata": {},
   "outputs": [
    {
     "name": "stdout",
     "output_type": "stream",
     "text": [
      "end\n"
     ]
    }
   ],
   "source": [
    "# 예측값을 wav로 출력\n",
    "EXPECTED_SAMPLE_RATE = 44100\n",
    "pred = pred * 1000 / EXPECTED_SAMPLE_RATE\n",
    "y_test = y_test * 1000 / EXPECTED_SAMPLE_RATE\n",
    "\n",
    "wavfile.write(\"pred.wav\", EXPECTED_SAMPLE_RATE, pred)\n",
    "wavfile.write(\"y_test.wav\", EXPECTED_SAMPLE_RATE, y_test)\n",
    "print(\"end\")"
   ]
  }
 ],
 "metadata": {
  "kernelspec": {
   "display_name": "Python 3",
   "language": "python",
   "name": "python3"
  },
  "language_info": {
   "codemirror_mode": {
    "name": "ipython",
    "version": 3
   },
   "file_extension": ".py",
   "mimetype": "text/x-python",
   "name": "python",
   "nbconvert_exporter": "python",
   "pygments_lexer": "ipython3",
   "version": "3.8.5"
  }
 },
 "nbformat": 4,
 "nbformat_minor": 4
}
