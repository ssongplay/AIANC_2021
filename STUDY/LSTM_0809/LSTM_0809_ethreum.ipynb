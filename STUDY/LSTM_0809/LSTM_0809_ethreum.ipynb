{
 "cells": [
  {
   "cell_type": "markdown",
   "metadata": {},
   "source": [
    "# 이더리움 시세 예측\n",
    "https://youtu.be/sG_WeGbZ9A4\n",
    "<br>\n",
    "https://coinmarketcap.com/currencies/ethereum/historical-data/\n",
    "<br>\n",
    "https://github.com/kairess/stock_crypto_price_prediction\n",
    "<br>\n",
    "최근 12개월"
   ]
  },
  {
   "cell_type": "code",
   "execution_count": 1,
   "metadata": {},
   "outputs": [],
   "source": [
    "import pandas as pd\n",
    "import numpy as np\n",
    "import matplotlib.pyplot as plt\n",
    "from keras.models import Sequential\n",
    "from keras.layers import LSTM, Dropout, Dense, Activation\n",
    "from keras.callbacks import TensorBoard, ModelCheckpoint, ReduceLROnPlateau\n",
    "import datetime"
   ]
  },
  {
   "cell_type": "code",
   "execution_count": 2,
   "metadata": {},
   "outputs": [
    {
     "data": {
      "text/html": [
       "<div>\n",
       "<style scoped>\n",
       "    .dataframe tbody tr th:only-of-type {\n",
       "        vertical-align: middle;\n",
       "    }\n",
       "\n",
       "    .dataframe tbody tr th {\n",
       "        vertical-align: top;\n",
       "    }\n",
       "\n",
       "    .dataframe thead th {\n",
       "        text-align: right;\n",
       "    }\n",
       "</style>\n",
       "<table border=\"1\" class=\"dataframe\">\n",
       "  <thead>\n",
       "    <tr style=\"text-align: right;\">\n",
       "      <th></th>\n",
       "      <th>Date</th>\n",
       "      <th>Open</th>\n",
       "      <th>High</th>\n",
       "      <th>Low</th>\n",
       "      <th>Close</th>\n",
       "      <th>Volume</th>\n",
       "      <th>Market Cap</th>\n",
       "    </tr>\n",
       "  </thead>\n",
       "  <tbody>\n",
       "    <tr>\n",
       "      <th>0</th>\n",
       "      <td>31.Oct.17</td>\n",
       "      <td>307.38</td>\n",
       "      <td>310.55</td>\n",
       "      <td>305.88</td>\n",
       "      <td>305.88</td>\n",
       "      <td>369,583,008.00</td>\n",
       "      <td>29,331,517,440.00</td>\n",
       "    </tr>\n",
       "    <tr>\n",
       "      <th>1</th>\n",
       "      <td>1.Nov.17</td>\n",
       "      <td>305.76</td>\n",
       "      <td>306.40</td>\n",
       "      <td>290.58</td>\n",
       "      <td>291.69</td>\n",
       "      <td>553,864,000.00</td>\n",
       "      <td>29,183,592,448.00</td>\n",
       "    </tr>\n",
       "    <tr>\n",
       "      <th>2</th>\n",
       "      <td>2.Nov.17</td>\n",
       "      <td>290.73</td>\n",
       "      <td>293.91</td>\n",
       "      <td>281.17</td>\n",
       "      <td>287.43</td>\n",
       "      <td>904,900,992.00</td>\n",
       "      <td>27,754,237,952.00</td>\n",
       "    </tr>\n",
       "    <tr>\n",
       "      <th>3</th>\n",
       "      <td>3.Nov.17</td>\n",
       "      <td>288.50</td>\n",
       "      <td>308.31</td>\n",
       "      <td>287.69</td>\n",
       "      <td>305.71</td>\n",
       "      <td>646,339,968.00</td>\n",
       "      <td>27,547,410,432.00</td>\n",
       "    </tr>\n",
       "    <tr>\n",
       "      <th>4</th>\n",
       "      <td>4.Nov.17</td>\n",
       "      <td>305.48</td>\n",
       "      <td>305.48</td>\n",
       "      <td>295.80</td>\n",
       "      <td>300.47</td>\n",
       "      <td>416,479,008.00</td>\n",
       "      <td>29,175,347,200.00</td>\n",
       "    </tr>\n",
       "  </tbody>\n",
       "</table>\n",
       "</div>"
      ],
      "text/plain": [
       "        Date    Open    High     Low   Close          Volume  \\\n",
       "0  31.Oct.17  307.38  310.55  305.88  305.88  369,583,008.00   \n",
       "1   1.Nov.17  305.76  306.40  290.58  291.69  553,864,000.00   \n",
       "2   2.Nov.17  290.73  293.91  281.17  287.43  904,900,992.00   \n",
       "3   3.Nov.17  288.50  308.31  287.69  305.71  646,339,968.00   \n",
       "4   4.Nov.17  305.48  305.48  295.80  300.47  416,479,008.00   \n",
       "\n",
       "          Market Cap  \n",
       "0  29,331,517,440.00  \n",
       "1  29,183,592,448.00  \n",
       "2  27,754,237,952.00  \n",
       "3  27,547,410,432.00  \n",
       "4  29,175,347,200.00  "
      ]
     },
     "execution_count": 2,
     "metadata": {},
     "output_type": "execute_result"
    }
   ],
   "source": [
    "data = pd.read_csv('eth.csv')\n",
    "data = data.dropna()\n",
    "data.head()"
   ]
  },
  {
   "cell_type": "code",
   "execution_count": 3,
   "metadata": {},
   "outputs": [],
   "source": [
    "high_prices = data['High'].values\n",
    "low_prices = data['Low'].values\n",
    "mid_prices = (high_prices + low_prices) / 2"
   ]
  },
  {
   "cell_type": "code",
   "execution_count": 4,
   "metadata": {},
   "outputs": [],
   "source": [
    "seq_len = 50\n",
    "sequence_length = seq_len + 1\n",
    "\n",
    "result = []\n",
    "for index in range(len(mid_prices) - sequence_length):\n",
    "    result.append(mid_prices[index: index + sequence_length])"
   ]
  },
  {
   "cell_type": "code",
   "execution_count": 5,
   "metadata": {},
   "outputs": [
    {
     "data": {
      "text/plain": [
       "((283, 50, 1), (31, 50, 1))"
      ]
     },
     "execution_count": 5,
     "metadata": {},
     "output_type": "execute_result"
    }
   ],
   "source": [
    "def normalize_windows(data):\n",
    "    normalized_data = []\n",
    "    for window in data:\n",
    "        normalized_window = [((float(p) / float(window[0])) - 1) for p in window]\n",
    "        normalized_data.append(normalized_window)\n",
    "    return np.array(normalized_data)\n",
    "\n",
    "result = normalize_windows(result)\n",
    "\n",
    "# split train and test data\n",
    "row = int(round(result.shape[0] * 0.9))\n",
    "train = result[:row, :]\n",
    "np.random.shuffle(train)\n",
    "\n",
    "x_train = train[:, :-1]\n",
    "x_train = np.reshape(x_train, (x_train.shape[0], x_train.shape[1], 1))\n",
    "y_train = train[:, -1]\n",
    "\n",
    "x_test = result[row:, :-1]\n",
    "x_test = np.reshape(x_test, (x_test.shape[0], x_test.shape[1], 1))\n",
    "y_test = result[row:, -1]\n",
    "\n",
    "x_train.shape, x_test.shape"
   ]
  },
  {
   "cell_type": "code",
   "execution_count": 6,
   "metadata": {},
   "outputs": [
    {
     "name": "stdout",
     "output_type": "stream",
     "text": [
      "Model: \"sequential\"\n",
      "_________________________________________________________________\n",
      "Layer (type)                 Output Shape              Param #   \n",
      "=================================================================\n",
      "lstm (LSTM)                  (None, 50, 50)            10400     \n",
      "_________________________________________________________________\n",
      "lstm_1 (LSTM)                (None, 64)                29440     \n",
      "_________________________________________________________________\n",
      "dense (Dense)                (None, 1)                 65        \n",
      "=================================================================\n",
      "Total params: 39,905\n",
      "Trainable params: 39,905\n",
      "Non-trainable params: 0\n",
      "_________________________________________________________________\n"
     ]
    }
   ],
   "source": [
    "model = Sequential()\n",
    "\n",
    "model.add(LSTM(50, return_sequences=True, input_shape=(50, 1)))\n",
    "\n",
    "model.add(LSTM(64, return_sequences=False))\n",
    "\n",
    "model.add(Dense(1, activation='linear'))\n",
    "\n",
    "model.compile(loss='mse', optimizer='rmsprop')\n",
    "\n",
    "model.summary()"
   ]
  },
  {
   "cell_type": "code",
   "execution_count": 7,
   "metadata": {},
   "outputs": [
    {
     "name": "stdout",
     "output_type": "stream",
     "text": [
      "Epoch 1/20\n",
      "29/29 [==============================] - 17s 305ms/step - loss: 0.1558 - val_loss: 0.0103\n",
      "\n",
      "Epoch 00001: val_loss improved from inf to 0.01027, saving model to ./models\\2021_08_09_16_54_53_eth.h5\n",
      "Epoch 2/20\n",
      "29/29 [==============================] - 2s 65ms/step - loss: 0.0492 - val_loss: 0.0011\n",
      "\n",
      "Epoch 00002: val_loss improved from 0.01027 to 0.00106, saving model to ./models\\2021_08_09_16_54_53_eth.h5\n",
      "Epoch 3/20\n",
      "29/29 [==============================] - 2s 65ms/step - loss: 0.0329 - val_loss: 0.0012\n",
      "\n",
      "Epoch 00003: val_loss did not improve from 0.00106\n",
      "Epoch 4/20\n",
      "29/29 [==============================] - 1s 41ms/step - loss: 0.0479 - val_loss: 0.0013\n",
      "\n",
      "Epoch 00004: val_loss did not improve from 0.00106\n",
      "Epoch 5/20\n",
      "29/29 [==============================] - 1s 47ms/step - loss: 0.0313 - val_loss: 0.0043\n",
      "\n",
      "Epoch 00005: val_loss did not improve from 0.00106\n",
      "Epoch 6/20\n",
      "29/29 [==============================] - 1s 48ms/step - loss: 0.0203 - val_loss: 0.0022\n",
      "\n",
      "Epoch 00006: val_loss did not improve from 0.00106\n",
      "Epoch 7/20\n",
      "29/29 [==============================] - 2s 57ms/step - loss: 0.0275 - val_loss: 0.0024\n",
      "\n",
      "Epoch 00007: val_loss did not improve from 0.00106\n",
      "\n",
      "Epoch 00007: ReduceLROnPlateau reducing learning rate to 0.00020000000949949026.\n",
      "Epoch 8/20\n",
      "29/29 [==============================] - 2s 58ms/step - loss: 0.0203 - val_loss: 0.0012\n",
      "\n",
      "Epoch 00008: val_loss did not improve from 0.00106\n",
      "Epoch 9/20\n",
      "29/29 [==============================] - 2s 76ms/step - loss: 0.0137 - val_loss: 0.0019\n",
      "\n",
      "Epoch 00009: val_loss did not improve from 0.00106\n",
      "Epoch 10/20\n",
      "29/29 [==============================] - 2s 60ms/step - loss: 0.0156 - val_loss: 0.0011\n",
      "\n",
      "Epoch 00010: val_loss did not improve from 0.00106\n",
      "Epoch 11/20\n",
      "29/29 [==============================] - 2s 67ms/step - loss: 0.0169 - val_loss: 8.7774e-04\n",
      "\n",
      "Epoch 00011: val_loss improved from 0.00106 to 0.00088, saving model to ./models\\2021_08_09_16_54_53_eth.h5\n",
      "Epoch 12/20\n",
      "29/29 [==============================] - 2s 73ms/step - loss: 0.0107 - val_loss: 0.0011\n",
      "\n",
      "Epoch 00012: val_loss did not improve from 0.00088\n",
      "Epoch 13/20\n",
      "29/29 [==============================] - 2s 85ms/step - loss: 0.0133 - val_loss: 0.0010\n",
      "\n",
      "Epoch 00013: val_loss did not improve from 0.00088\n",
      "Epoch 14/20\n",
      "29/29 [==============================] - 2s 71ms/step - loss: 0.0123 - val_loss: 0.0011\n",
      "\n",
      "Epoch 00014: val_loss did not improve from 0.00088\n",
      "Epoch 15/20\n",
      "29/29 [==============================] - 2s 64ms/step - loss: 0.0125 - val_loss: 9.0433e-04\n",
      "\n",
      "Epoch 00015: val_loss did not improve from 0.00088\n",
      "Epoch 16/20\n",
      "29/29 [==============================] - 2s 58ms/step - loss: 0.0125 - val_loss: 7.9646e-04\n",
      "\n",
      "Epoch 00016: val_loss improved from 0.00088 to 0.00080, saving model to ./models\\2021_08_09_16_54_53_eth.h5\n",
      "\n",
      "Epoch 00016: ReduceLROnPlateau reducing learning rate to 4.0000001899898055e-05.\n",
      "Epoch 17/20\n",
      "29/29 [==============================] - 2s 66ms/step - loss: 0.0122 - val_loss: 8.4973e-04\n",
      "\n",
      "Epoch 00017: val_loss did not improve from 0.00080\n",
      "Epoch 18/20\n",
      "29/29 [==============================] - 2s 64ms/step - loss: 0.0136 - val_loss: 9.3541e-04\n",
      "\n",
      "Epoch 00018: val_loss did not improve from 0.00080\n",
      "Epoch 19/20\n",
      "29/29 [==============================] - 2s 59ms/step - loss: 0.0142 - val_loss: 9.5443e-04\n",
      "\n",
      "Epoch 00019: val_loss did not improve from 0.00080\n",
      "Epoch 20/20\n",
      "29/29 [==============================] - 2s 66ms/step - loss: 0.0134 - val_loss: 9.9609e-04\n",
      "\n",
      "Epoch 00020: val_loss did not improve from 0.00080\n"
     ]
    },
    {
     "data": {
      "text/plain": [
       "<tensorflow.python.keras.callbacks.History at 0x25a5078b460>"
      ]
     },
     "execution_count": 7,
     "metadata": {},
     "output_type": "execute_result"
    }
   ],
   "source": [
    "start_time = datetime.datetime.now().strftime('%Y_%m_%d_%H_%M_%S')\n",
    "\n",
    "model.fit(x_train, y_train,\n",
    "    validation_data=(x_test, y_test),\n",
    "    batch_size=10,\n",
    "    epochs=20,\n",
    "    callbacks=[\n",
    "        TensorBoard(log_dir='logs/%s' % (start_time)),\n",
    "        ModelCheckpoint('./models/%s_eth.h5' % (start_time), monitor='val_loss', verbose=1, save_best_only=True, mode='auto'),\n",
    "        ReduceLROnPlateau(monitor='val_loss', factor=0.2, patience=5, verbose=1, mode='auto')\n",
    "])"
   ]
  },
  {
   "cell_type": "code",
   "execution_count": 8,
   "metadata": {},
   "outputs": [
    {
     "data": {
      "image/png": "[encoded data removed]",
      "text/plain": [
       "<Figure size 1440x720 with 1 Axes>"
      ]
     },
     "metadata": {},
     "output_type": "display_data"
    }
   ],
   "source": [
    "pred = model.predict(x_test)\n",
    "\n",
    "fig = plt.figure(facecolor='white', figsize=(20, 10))\n",
    "ax = fig.add_subplot(111)\n",
    "ax.plot(y_test, label='True')\n",
    "ax.plot(pred, label='Prediction')\n",
    "ax.legend()\n",
    "plt.show()"
   ]
  }
 ],
 "metadata": {
  "kernelspec": {
   "display_name": "Python 3",
   "language": "python",
   "name": "python3"
  },
  "language_info": {
   "codemirror_mode": {
    "name": "ipython",
    "version": 3
   },
   "file_extension": ".py",
   "mimetype": "text/x-python",
   "name": "python",
   "nbconvert_exporter": "python",
   "pygments_lexer": "ipython3",
   "version": "3.8.5"
  }
 },
 "nbformat": 4,
 "nbformat_minor": 4
}
